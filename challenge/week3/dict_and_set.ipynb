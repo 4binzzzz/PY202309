{
 "cells": [
  {
   "cell_type": "code",
   "execution_count": 4,
   "id": "7523e453",
   "metadata": {},
   "outputs": [
    {
     "name": "stdout",
     "output_type": "stream",
     "text": [
      "Enter English number ranging from 1to 5 : three\n",
      "three  is  삼\n"
     ]
    }
   ],
   "source": [
    "#dictionary 1번\n",
    "number_dict = {\"one\" : \"일\", \"two\" : \"이\", \"three\" : \"삼\", \"four\" : \"사\", \"five\" : \"오\"}\n",
    "#dictionary 생성, key:value 저장\n",
    "\n",
    "eng_num = str(input(\"Enter English number ranging from 1to 5 : \"))\n",
    "#key 값 입력받기\n",
    "\n",
    "print(eng_num, \" is \",number_dict[eng_num])\n",
    "#입력받은 key와 짝인 value 값 출력"
   ]
  },
  {
   "cell_type": "code",
   "execution_count": 28,
   "id": "75d5434d",
   "metadata": {},
   "outputs": [
    {
     "name": "stdout",
     "output_type": "stream",
     "text": [
      "Name :  Moving / average :  4.0\n",
      "Name :  Mask Girl / average :  3.6666666666666665\n",
      "Name :  Oppenheimer / average :  3.3333333333333335\n"
     ]
    }
   ],
   "source": [
    "#dictionary 2번 \n",
    "ratings = {\"Moving\" : {\"Misoo\":4, \"Kwon\":3,\"Soo\":5},\n",
    "          \"Mask Girl\" : {\"Misoo\":3, \"David\":4,\"Soo\":4},\n",
    "          \"Oppenheimer\" : {\"Misoo\":3, \"Bob\":3,\"David\":4}}\n",
    "#dictionary 생성\n",
    "\n",
    "name_list = list(ratings.keys())\n",
    "#영화 이름이 들어있는 리스트 생성\n",
    "\n",
    "list(ratings[name_list[0]].values())\n",
    "avg1 = sum(ratings[name_list[0]].values()) / len(ratings[name_list[0]].values())\n",
    "avg2 = sum(ratings[name_list[1]].values()) / len(ratings[name_list[0]].values())\n",
    "avg3 = sum(ratings[name_list[2]].values()) / len(ratings[name_list[0]].values())\n",
    "#리스트 만들어서 각각의 영화에 대한 점수의 합 / 리스트의 길이 -> 평균구하기\n",
    "\n",
    "print(\"Name : \",name_list[0], \"/ average : \", avg1)\n",
    "print(\"Name : \",name_list[1], \"/ average : \", avg2)\n",
    "print(\"Name : \",name_list[2], \"/ average : \", avg3)"
   ]
  },
  {
   "cell_type": "code",
   "execution_count": 35,
   "id": "2f58fa11",
   "metadata": {},
   "outputs": [
    {
     "name": "stdout",
     "output_type": "stream",
     "text": [
      "Enter user1's 1st friend name : 철수\n",
      "Enter user1's 2nd friend name : 영수\n",
      "Enter user1's 3rd friend name : 영희\n",
      "Enter user2's 1st friend name : 철희\n",
      "Enter user2's 2nd friend name : 영수\n",
      "Enter user2's 3rd friend name : 동수\n",
      "All friends :  {'동수', '철수', '영수', '영희', '철희'}\n"
     ]
    }
   ],
   "source": [
    "#set 1번\n",
    "user1_friends_list = []\n",
    "user1_friends_set = set(user1_friends)\n",
    "#유저1에 대한 리스트를 생성 후 set로 변환\n",
    "\n",
    "user2_friends_list = []\n",
    "user2_friends_set = set(user1_friends)\n",
    "#유저2에 대한 리스트를 생성 후 set로 변환\n",
    "\n",
    "user1_1 = str(input(\"Enter user1's 1st friend name : \"))\n",
    "user1_friends_set.add(user1_1)\n",
    "user1_2 = str(input(\"Enter user1's 2nd friend name : \"))\n",
    "user1_friends_set.add(user1_2)\n",
    "user1_3 = str(input(\"Enter user1's 3rd friend name : \"))\n",
    "user1_friends_set.add(user1_3)\n",
    "#유저1의 친구 이름 입력 받아 set에 저장하는 것을 3번 반복\n",
    "\n",
    "user2_1 = str(input(\"Enter user2's 1st friend name : \"))\n",
    "user2_friends_set.add(user2_1)\n",
    "user2_2 = str(input(\"Enter user2's 2nd friend name : \"))\n",
    "user2_friends_set.add(user2_2)\n",
    "user2_3 = str(input(\"Enter user2's 3rd friend name : \"))\n",
    "user2_friends_set.add(user2_3)\n",
    "#유저2의 친구 이름 입력 받아 set에 저장하는 것을 3번 반복\n",
    "\n",
    "print(\"All friends : \", user1_friends_set.union(user2_friends_set) )"
   ]
  },
  {
   "cell_type": "code",
   "execution_count": null,
   "id": "948faafb",
   "metadata": {},
   "outputs": [],
   "source": []
  }
 ],
 "metadata": {
  "kernelspec": {
   "display_name": "Python 3 (ipykernel)",
   "language": "python",
   "name": "python3"
  },
  "language_info": {
   "codemirror_mode": {
    "name": "ipython",
    "version": 3
   },
   "file_extension": ".py",
   "mimetype": "text/x-python",
   "name": "python",
   "nbconvert_exporter": "python",
   "pygments_lexer": "ipython3",
   "version": "3.11.4"
  }
 },
 "nbformat": 4,
 "nbformat_minor": 5
}
