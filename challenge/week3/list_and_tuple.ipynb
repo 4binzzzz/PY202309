{
 "cells": [
  {
   "cell_type": "code",
   "execution_count": 5,
   "id": "174e481c",
   "metadata": {},
   "outputs": [
    {
     "name": "stdout",
     "output_type": "stream",
     "text": [
      "Enter 1st number : 50\n",
      "Enter 2nd number : 40\n",
      "Enter 3rd number : 90\n",
      "Enter 4th number : 10\n",
      "Enter 5th number : 30\n",
      "max =  90\n",
      "min =  10\n",
      "average =  44.0\n"
     ]
    }
   ],
   "source": [
    "#list 1번\n",
    "aa = [0, 0, 0, 0, 0] #리스트 생성\n",
    "\n",
    "aa[0] = int(input(\"Enter 1st number : \")) #사용자에게 리스트에 들어갈 값 순서대로 입력받기\n",
    "aa[1] = int(input(\"Enter 2nd number : \"))\n",
    "aa[2] = int(input(\"Enter 3rd number : \"))\n",
    "aa[3] = int(input(\"Enter 4th number : \"))\n",
    "aa[4] = int(input(\"Enter 5th number : \"))\n",
    "\n",
    "print(\"max = \", max(aa)) #리스트 중 최대값\n",
    "print(\"min = \", min(aa)) #리스트 중 최소값\n",
    "average = sum(aa) / 5 #평균값 구하기\n",
    "print(\"average = \", average)"
   ]
  },
  {
   "cell_type": "code",
   "execution_count": 3,
   "id": "7f0cd328",
   "metadata": {},
   "outputs": [
    {
     "name": "stdout",
     "output_type": "stream",
     "text": [
      "What is your favorite singer? Oh My Girl\n",
      "['BTS', 'Black Pink', 'Oh My Girl']\n"
     ]
    }
   ],
   "source": [
    "#list 2번\n",
    "fav_singers = ['BTS', 'Black Pink'] #리스트 생성\n",
    "\n",
    "user_fav = str(input(\"What is your favorite singer? \")) #유저가 좋아하는 가수 입력받기\n",
    "\n",
    "fav_singers.append(user_fav) #유저가 좋아하는 가수 리스트에 추가하기\n",
    "\n",
    "fav_singers.sort() #리스트 정렬하기\n",
    "\n",
    "print(fav_singers) #최종 리스트 출력하기"
   ]
  },
  {
   "cell_type": "code",
   "execution_count": 14,
   "id": "be1974ec",
   "metadata": {},
   "outputs": [
    {
     "name": "stdout",
     "output_type": "stream",
     "text": [
      "('tennis', 'football', 'baseball', 'basketball', 'golf')\n",
      "Please enter one of the sport name from above : golf\n",
      "golf  has index number :  4\n",
      "Enter a number between 0 and 4 : 2\n",
      "baseball\n"
     ]
    }
   ],
   "source": [
    "# tuple 1번\n",
    "sports = ('tennis', 'football', 'baseball', 'basketball', 'golf') #튜플 생성\n",
    "\n",
    "print(sports) #튜플 출력\n",
    " \n",
    "user_choice = str(input(\"Please enter one of the sport name from above : \")) #유저에게 튜플에 저장된 스포츠 중 하나 입력받기\n",
    "\n",
    "print(user_choice, \" has index number : \", sports.index(user_choice)) #유저가 입력한 스포츠의 인덱스 출력하기\n",
    "\n",
    "user_num = int(input(\"Enter a number between 0 and 4 : \")) #유저에게 숫자 입력받기\n",
    "\n",
    "print(sports[user_num]) #유저가 입력한 숫자에 대응하는 스포츠 출력하기"
   ]
  },
  {
   "cell_type": "code",
   "execution_count": null,
   "id": "3e5ad845",
   "metadata": {},
   "outputs": [],
   "source": [
    "#tuple 4번\n",
    "menu = (Americano, Caffe Latte, Caffe Mocha, Iced Tea) #튜플 생성\n",
    "\n",
    "yesterday_1 = str(input(\"Enter the 1st item sold yesterday : \"))\n",
    "yesterday_2 = str(input(\"Enter the 2nd item sold yesterday : \"))\n",
    "yesterday_3 = str(input(\"Enter the 3rd item sold yesterday : \"))\n",
    "yesterday_4 = str(input(\"Enter the 4th item sold yesterday : \"))\n",
    "yesterday_5 = str(input(\"Enter the 5th item sold yesterday : \"))\n",
    "\n",
    "today_1 = str(input(\"Enter the 1st item sold today : \"))\n",
    "today_2 = str(input(\"Enter the 2nd item sold today : \"))\n",
    "today_3 = str(input(\"Enter the 3rd item sold today : \"))\n",
    "today_4 = str(input(\"Enter the 4th item sold today : \"))\n",
    "today_5 = str(input(\"Enter the 5th item sold today : \"))"
   ]
  }
 ],
 "metadata": {
  "kernelspec": {
   "display_name": "Python 3 (ipykernel)",
   "language": "python",
   "name": "python3"
  },
  "language_info": {
   "codemirror_mode": {
    "name": "ipython",
    "version": 3
   },
   "file_extension": ".py",
   "mimetype": "text/x-python",
   "name": "python",
   "nbconvert_exporter": "python",
   "pygments_lexer": "ipython3",
   "version": "3.11.4"
  }
 },
 "nbformat": 4,
 "nbformat_minor": 5
}
