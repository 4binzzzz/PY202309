{
 "cells": [
  {
   "cell_type": "code",
   "execution_count": 19,
   "id": "10c275cd",
   "metadata": {},
   "outputs": [
    {
     "name": "stdout",
     "output_type": "stream",
     "text": [
      "#     2    ##     3    ##     4    ##     5    ##     6    ##     7    ##     8    ##     9    #\n",
      " 2 X  1 =  2 3 X  1 =  3 4 X  1 =  4 5 X  1 =  5 6 X  1 =  6 7 X  1 =  7 8 X  1 =  8 9 X  1 =  9\n",
      " 2 X  2 =  4 3 X  2 =  6 4 X  2 =  8 5 X  2 = 10 6 X  2 = 12 7 X  2 = 14 8 X  2 = 16 9 X  2 = 18\n",
      " 2 X  3 =  6 3 X  3 =  9 4 X  3 = 12 5 X  3 = 15 6 X  3 = 18 7 X  3 = 21 8 X  3 = 24 9 X  3 = 27\n",
      " 2 X  4 =  8 3 X  4 = 12 4 X  4 = 16 5 X  4 = 20 6 X  4 = 24 7 X  4 = 28 8 X  4 = 32 9 X  4 = 36\n",
      " 2 X  5 = 10 3 X  5 = 15 4 X  5 = 20 5 X  5 = 25 6 X  5 = 30 7 X  5 = 35 8 X  5 = 40 9 X  5 = 45\n",
      " 2 X  6 = 12 3 X  6 = 18 4 X  6 = 24 5 X  6 = 30 6 X  6 = 36 7 X  6 = 42 8 X  6 = 48 9 X  6 = 54\n",
      " 2 X  7 = 14 3 X  7 = 21 4 X  7 = 28 5 X  7 = 35 6 X  7 = 42 7 X  7 = 49 8 X  7 = 56 9 X  7 = 63\n",
      " 2 X  8 = 16 3 X  8 = 24 4 X  8 = 32 5 X  8 = 40 6 X  8 = 48 7 X  8 = 56 8 X  8 = 64 9 X  8 = 72\n",
      " 2 X  9 = 18 3 X  9 = 27 4 X  9 = 36 5 X  9 = 45 6 X  9 = 54 7 X  9 = 63 8 X  9 = 72 9 X  9 = 81\n"
     ]
    }
   ],
   "source": [
    "guguLine = \"\" #guguLine 초기화\n",
    "\n",
    "a = 2 #몇 단인지 알려주기 위한 타이틀을 반복문으로 출력하기 위해 새로운 변수 생성\n",
    "while a < 10 :  #while문을 사용해 구구단 출력 전 몇단인지 알려주는 타이틀 출력\n",
    "    guguLine = guguLine + (\"#     %d    #\"%a)\n",
    "    a += 1\n",
    "    \n",
    "print(guguLine) #타이틀 출력\n",
    "\n",
    "i = 1 #구구단 출력을 위한 변수의 초기값 설정\n",
    "while i < 10 : #while문을 사용해 각각의 구구단에 1부터 9까지 곱해지도록 반복문을 설정함\n",
    "    guguLine = \"\"\n",
    "    k = 2 #변수의 초기값 설정\n",
    "    while k < 10 : #while문을 사용해 2단부터 9단까지 반복하도록 설정\n",
    "        guguLine = guguLine + str(\"%2d X %2d = %2d\"%(k,i,k*i))\n",
    "        k += 1 #한 줄 출력 후 현재의 k 값에 1더해서 다음 반복문으로 넘어가도록 함\n",
    "    print(guguLine)\n",
    "    i += 1 #한 줄 출력 후 현재의 i 값에 1을 더해서 다음 반복문으로 넘어가도록 함"
   ]
  },
  {
   "cell_type": "code",
   "execution_count": null,
   "id": "b45cbb6c",
   "metadata": {},
   "outputs": [],
   "source": []
  }
 ],
 "metadata": {
  "kernelspec": {
   "display_name": "Python 3 (ipykernel)",
   "language": "python",
   "name": "python3"
  },
  "language_info": {
   "codemirror_mode": {
    "name": "ipython",
    "version": 3
   },
   "file_extension": ".py",
   "mimetype": "text/x-python",
   "name": "python",
   "nbconvert_exporter": "python",
   "pygments_lexer": "ipython3",
   "version": "3.11.4"
  }
 },
 "nbformat": 4,
 "nbformat_minor": 5
}
