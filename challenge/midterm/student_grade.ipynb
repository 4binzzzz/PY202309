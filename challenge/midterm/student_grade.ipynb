{
 "cells": [
  {
   "cell_type": "markdown",
   "id": "92e3e6bb",
   "metadata": {},
   "source": [
    "## 1. student.csv 파일을 줄 별로 읽은 후 코드 작성\n",
    "\n",
    "- 학생 별 성적들을 딕셔너리에 저장\n",
    "- 학생 별 성적의 평균점수를 출력\n",
    "- 평균 점수를 코드 실행결과와 동일하게 파일로 출력 (average.txt)"
   ]
  },
  {
   "cell_type": "code",
   "execution_count": 13,
   "id": "35c06549",
   "metadata": {},
   "outputs": [
    {
     "name": "stdout",
     "output_type": "stream",
     "text": [
      "------학생들의 평균 점수------\n",
      "실바의 평균 점수는 73.66666666666667입니다.\n",
      "산토스의 평균 점수는 86.93333333333334입니다.\n",
      "맥그리거의 평균 점수는 85.7입니다.\n",
      "알도의 평균 점수는 85.43333333333332입니다.\n",
      "로우지의 평균 점수는 83.10000000000001입니다.\n",
      "누네스의 평균 점수는 85.93333333333334입니다.\n"
     ]
    }
   ],
   "source": [
    "# csv 파일 불러오기\n",
    "fp = open(\"students.csv\", \"r\", encoding=\"utf-8\")\n",
    "lines = fp.readlines() #불러온 파일을 줄 별로 읽기\n",
    "\n",
    "\n",
    "students_info = {} #학생들의 정보를 저장할 딕셔너리 생성\n",
    "\n",
    "# 첫 번째 줄은 제외하고 나머지 학생들의 데이터를 처리\n",
    "for line in lines[1:]:\n",
    "    data = line.strip().split(',') #파일의 각 줄을 쉼표로 분리->학생의 이름과 성적 얻음\n",
    "    name = data[0] #학생 이름 name 변수에 저장\n",
    "    scores={} #과목별 점수 저장할 딕셔너리 생성\n",
    "    scores['국어']=float(data[1]) #국어 점수 저장\n",
    "    scores['수학']=float(data[2]) #수학 점수 저장\n",
    "    scores['영어']=float(data[3]) #영어 점수 저장\n",
    "    students_info[name] = scores #딕셔너리에서 학생 이름과 성적 연결하여 저장\n",
    "\n",
    "\n",
    "# 학생 별 평균 점수 계산 및 출력\n",
    "print(\"------학생들의 평균 점수------\")\n",
    "average_scores = {} #평균 점수 저장할 딕셔너리 생성\n",
    "for name, scores in students_info.items(): #학생 정보가 저장된 딕셔너리 내에서 반복\n",
    "    average = sum(scores.values()) / len(scores) #평균 점수 계산\n",
    "    average_scores[name] = average #딕셔너리에서 학생 이름과 평균 점수 연결하여 저장\n",
    "    print(f\"{name}의 평균 점수는 {average}입니다.\")\n",
    "\n",
    "\n",
    "\n",
    "# 평균 점수를 파일에 저장\n",
    "with open('average.txt', 'w', encoding='utf-8') as output_file: #average.txt파일 쓰기모드로 열기\n",
    "    output_file.write(\"------학생들의 평균 점수------\\n\") #처음 한줄만 작성되면 되기 때문에 반복문에 넣지 않음\n",
    "    for name, average in average_scores.items(): #평균 점수가 저장된 딕셔너리 내에서 반복\n",
    "        output_file.write(f\"{name}의 평균 점수는 {average}입니다.\\n\") #학생 평균 점수 한줄씩 출력\n"
   ]
  },
  {
   "cell_type": "markdown",
   "id": "1a720ad3",
   "metadata": {},
   "source": [
    "## 2. 함수 작성 후 호출\n",
    "\n",
    "- loadData : 학생 별 성적들을 딕셔너리에 저장하는 함수\n",
    "- getAverage : 숫자 리스트를 받아 평균을 반환하는 함수"
   ]
  },
  {
   "cell_type": "code",
   "execution_count": 12,
   "id": "9232c864",
   "metadata": {},
   "outputs": [
    {
     "name": "stdout",
     "output_type": "stream",
     "text": [
      "------학생들의 평균 점수------\n",
      "실바의 평균 점수는 73.66666666666667입니다.\n",
      "산토스의 평균 점수는 86.93333333333334입니다.\n",
      "맥그리거의 평균 점수는 85.7입니다.\n",
      "알도의 평균 점수는 85.43333333333332입니다.\n",
      "로우지의 평균 점수는 83.10000000000001입니다.\n",
      "누네스의 평균 점수는 85.93333333333334입니다.\n"
     ]
    }
   ],
   "source": [
    "#학생 별 성적들을 딕셔너리에 저장하는 함수\n",
    "def loadData(fp) :\n",
    "    lines = fp.readlines() #불러온 파일을 줄 별로 읽기\n",
    "    \n",
    "    students_info = {} #학생들의 정보를 저장할 딕셔너리 생성\n",
    "    \n",
    "    # 첫 번째 줄은 제외하고 나머지 학생들의 데이터를 처리\n",
    "    for line in lines[1:]:\n",
    "        data = line.strip().split(',') #파일의 각 줄을 쉼표로 분리->학생의 이름과 성적 얻음\n",
    "        name = data[0] #학생 이름 name 변수에 저장\n",
    "        scores={} #과목별 점수 저장할 딕셔너리 생성\n",
    "        scores['국어']=float(data[1]) #국어 점수 저장\n",
    "        scores['수학']=float(data[2]) #수학 점수 저장\n",
    "        scores['영어']=float(data[3]) #영어 점수 저장\n",
    "        students_info[name] = scores #딕셔너리에서 학생 이름과 성적 연결하여 저장\n",
    "    \n",
    "    return students_info\n",
    "\n",
    "\n",
    "#숫자 리스트를 받아 평균을 반환하는 함수\n",
    "def getAverage(students_info) :\n",
    "    print(\"------학생들의 평균 점수------\")\n",
    "    \n",
    "    average_scores = {} #평균 점수 저장할 딕셔너리 생성\n",
    "    \n",
    "    for name, scores in students_info.items(): #학생 정보가 저장된 딕셔너리 내에서 반복\n",
    "        average = sum(scores.values()) / len(scores) #평균 점수 계산\n",
    "        average_scores[name] = average #딕셔너리에서 학생 이름과 평균 점수 연결하여 저장\n",
    "    \n",
    "    return average_scores\n",
    "    \n",
    "    \n",
    "# csv 파일 불러오기\n",
    "fp = open(\"students.csv\", \"r\", encoding=\"utf-8\")\n",
    "\n",
    "students_info = loadData(fp) #학생 별 성적 딕셔너리에 저장하는 함수 호출\n",
    "\n",
    "average_scores = getAverage(students_info) #평균 점수 계산하는 함수 호출\n",
    "\n",
    "# 학생 별 평균 점수 출력\n",
    "for name, average in average_scores.items(): #학생 정보가 저장된 딕셔너리 내에서 반복\n",
    "     print(f\"{name}의 평균 점수는 {average}입니다.\")\n",
    "\n",
    "\n",
    "\n",
    "# 평균 점수를 파일에 저장\n",
    "with open('average.txt', 'w', encoding='utf-8') as output_file: #average.txt파일 쓰기모드로 열기\n",
    "    output_file.write(\"------학생들의 평균 점수------\\n\") #처음 한줄만 작성되면 되기 때문에 반복문에 넣지 않음\n",
    "    for name, average in average_scores.items(): #평균 점수가 저장된 딕셔너리 내에서 반복\n",
    "        output_file.write(f\"{name}의 평균 점수는 {average}입니다.\\n\") #학생 평균 점수 한줄씩 출력\n"
   ]
  },
  {
   "cell_type": "code",
   "execution_count": null,
   "id": "b5e69c37",
   "metadata": {},
   "outputs": [],
   "source": []
  }
 ],
 "metadata": {
  "kernelspec": {
   "display_name": "Python 3 (ipykernel)",
   "language": "python",
   "name": "python3"
  },
  "language_info": {
   "codemirror_mode": {
    "name": "ipython",
    "version": 3
   },
   "file_extension": ".py",
   "mimetype": "text/x-python",
   "name": "python",
   "nbconvert_exporter": "python",
   "pygments_lexer": "ipython3",
   "version": "3.11.4"
  }
 },
 "nbformat": 4,
 "nbformat_minor": 5
}
