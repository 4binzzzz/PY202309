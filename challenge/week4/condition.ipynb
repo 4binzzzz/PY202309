{
 "cells": [
  {
   "cell_type": "code",
   "execution_count": 10,
   "id": "122c71e4",
   "metadata": {},
   "outputs": [
    {
     "name": "stdout",
     "output_type": "stream",
     "text": [
      "Is it raining? (Y / N)ㄴ\n",
      "Is it windy? (Y / N)y\n",
      "Incorrect Input\n"
     ]
    }
   ],
   "source": [
    "rain = str(input(\"Is it raining? (Y / N)\")) #사용자에게 현재 비가 오는지에 대한 상태 입력받기\n",
    "wind = str(input(\"Is it windy? (Y / N)\")) #사용자에게 현재 바람이 부는지에 대한 상태 입력받기\n",
    "\n",
    "if rain != 'y' and rain != 'n' : #비가 오는지에 대한 입력이 'y' 혹은 'n'으로 입력되지 않았을 경우\n",
    "    print(\"Incorrect Input\") #잘못된 입력이라는 메시지 출력\n",
    "\n",
    "elif wind != 'y' and wind != 'n' : #바람이 부는지에 대한 입력이 'y' 혹은 'n'으로 입력되지 않았을 경우\n",
    "    print(\"Incorrect Input\") #잘못된 입력이라는 메시지 출력\n",
    "    \n",
    "else : #비와 바람에 대한 답변이 옳게 입력 받았을 경우 아래의 if문이 실행됨\n",
    "    if rain == 'y' and wind == 'y' : #비가 오고 바람이 불 경우\n",
    "        print(\"It is too windy for an umbrella.\") #메시지 출력\n",
    "    \n",
    "    elif rain == 'y' and wind == 'n' : #비만 오고 바람이 불지 않을 경우\n",
    "        print(\"Take an umbrella.\") #메시지 출력\n",
    "    \n",
    "    elif rain == 'n' and wind == 'y' : #비가 오지 않고 바람만 불 경우\n",
    "        print(\"Please take a coat\") #메시지 출력\n",
    "    \n",
    "    elif rain == 'n' and wind == 'n' : #비가 오지 않고 바람도 불지 않을 경우\n",
    "        print(\"Have a nice day\") #메시지 출력"
   ]
  },
  {
   "cell_type": "code",
   "execution_count": null,
   "id": "abd8b078",
   "metadata": {},
   "outputs": [],
   "source": []
  }
 ],
 "metadata": {
  "kernelspec": {
   "display_name": "Python 3 (ipykernel)",
   "language": "python",
   "name": "python3"
  },
  "language_info": {
   "codemirror_mode": {
    "name": "ipython",
    "version": 3
   },
   "file_extension": ".py",
   "mimetype": "text/x-python",
   "name": "python",
   "nbconvert_exporter": "python",
   "pygments_lexer": "ipython3",
   "version": "3.11.4"
  }
 },
 "nbformat": 4,
 "nbformat_minor": 5
}
