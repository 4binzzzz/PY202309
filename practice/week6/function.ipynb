{
 "cells": [
  {
   "cell_type": "code",
   "execution_count": 5,
   "id": "78e4a0d3",
   "metadata": {},
   "outputs": [
    {
     "name": "stdout",
     "output_type": "stream",
     "text": [
      "** Start Lotto **\n",
      "Number :  3 4 8 16 18 43 "
     ]
    }
   ],
   "source": [
    "import random #난수 생성\n",
    "\n",
    "def get_number() : #함수 만들기\n",
    "    return random.randrange(1,46) #난수 범위 설정해서 반환하기\n",
    "\n",
    "lotto = [] #lotto 리스트 생성\n",
    "num = 0 #num 변수의 초기값 설정\n",
    "print(\"** Start Lotto **\")\n",
    "\n",
    "while True : #반복문 만들기\n",
    "    num = get_number() #get_number() 함수 사용\n",
    "    \n",
    "    if lotto.count(num) == 0 : #리스트의 num 수 \n",
    "        lotto.append(num) #리스트에 num 추가하기\n",
    "        \n",
    "    if len(lotto) >= 6 :\n",
    "        break #lotto의 개수가 6보다 크거나 같을 경우 반복문 나가기\n",
    "        \n",
    "print(\"Number : \", end=' ')\n",
    "lotto.sort() #리스트 정렬\n",
    "\n",
    "for number in lotto :\n",
    "    print(number, end=' ') #lotto 리스트의 원소 사이에 빈칸 넣어서 순서대로 출력"
   ]
  },
  {
   "cell_type": "code",
   "execution_count": null,
   "id": "6c297392",
   "metadata": {},
   "outputs": [],
   "source": []
  }
 ],
 "metadata": {
  "kernelspec": {
   "display_name": "Python 3 (ipykernel)",
   "language": "python",
   "name": "python3"
  },
  "language_info": {
   "codemirror_mode": {
    "name": "ipython",
    "version": 3
   },
   "file_extension": ".py",
   "mimetype": "text/x-python",
   "name": "python",
   "nbconvert_exporter": "python",
   "pygments_lexer": "ipython3",
   "version": "3.11.4"
  }
 },
 "nbformat": 4,
 "nbformat_minor": 5
}
