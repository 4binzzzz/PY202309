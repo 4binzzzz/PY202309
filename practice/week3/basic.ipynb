{
 "cells": [
  {
   "cell_type": "markdown",
   "id": "c191a260",
   "metadata": {},
   "source": [
    "# list"
   ]
  },
  {
   "cell_type": "code",
   "execution_count": 4,
   "id": "e22e4be7",
   "metadata": {},
   "outputs": [
    {
     "name": "stdout",
     "output_type": "stream",
     "text": [
      "1. currrent list =  [30, 10, 20, 50, 40]\n",
      "2. append(60) =  [30, 10, 20, 50, 40, 60]\n",
      "3. item after pop() =  60\n",
      "4. list after pop() =  [30, 10, 20, 50, 40]\n",
      "5. after sort =  [10, 20, 30, 40, 50]\n",
      "6. after reverse() =  [50, 40, 30, 20, 10]\n",
      "7. index for 20 =  3\n",
      "8. after insert(2, 222) =  [50, 40, 222, 30, 20, 10]\n",
      "9. after remove(2, 222) =  [50, 40, 30, 20, 10]\n",
      "10. after extend([100, 200, 100]) =  [50, 40, 30, 20, 10, 100, 200, 100]\n"
     ]
    }
   ],
   "source": [
    "sample_list = [30, 10, 20, 50, 40] #30,10,20,50,40이 들어있는 리스트 생성\n",
    "print(\"1. currrent list = \", sample_list) #현재 sample_list의 값들 출력\n",
    "\n",
    "sample_list.append(60) #sample_list의 마지막에 60 추가\n",
    "print(\"2. append(60) = \", sample_list) \n",
    "\n",
    "print(\"3. item after pop() = \", sample_list.pop()) #리스트의 마지막 값 삭제 후 그 값을 출력\n",
    "print(\"4. list after pop() = \", sample_list) #리스트의 마지막 값이 삭제된 후의 리스트를 출력\n",
    "\n",
    "sample_list.sort() #리스트의 값들을 크기대로 정리\n",
    "print(\"5. after sort = \", sample_list)\n",
    "\n",
    "sample_list.reverse() #리스트의 값들을 역전시키기\n",
    "print(\"6. after reverse() = \", sample_list)\n",
    "\n",
    "print(\"7. index for 20 = \", sample_list.index(20)) #리스트 중 20이 저장되어 있는 값의 인덱스 출력하기\n",
    "\n",
    "sample_list.insert(2, 222) #리스트 2번 인덱스에 222 넣기\n",
    "print(\"8. after insert(2, 222) = \", sample_list)\n",
    "\n",
    "sample_list.remove(222) #리스트 중 222 값 지우기\n",
    "print(\"9. after remove(2, 222) = \", sample_list)\n",
    "\n",
    "new_list = [100, 200, 100] #100,200,100이 들어있는 새로운 리스트 생성\n",
    "sample_list.extend(new_list) #sample_list에 new_list 추가하기\n",
    "print(\"10. after extend([100, 200, 100]) = \", sample_list)"
   ]
  },
  {
   "cell_type": "markdown",
   "id": "884cc88e",
   "metadata": {},
   "source": [
    "# turtle"
   ]
  },
  {
   "cell_type": "code",
   "execution_count": 7,
   "id": "424b6e40",
   "metadata": {},
   "outputs": [
    {
     "name": "stdout",
     "output_type": "stream",
     "text": [
      "turtle bye!\n"
     ]
    }
   ],
   "source": [
    "import turtle\n",
    "t = turtle.Turtle()\n",
    "radius_list = [100, 200, 50] #100, 200, 50의 값이 저장된 리스트 생성\n",
    "move = 20 #아래 반복문에서 사용할 move 변수의 값 미리 설정\n",
    "\n",
    "t.shape(\"turtle\")\n",
    "\n",
    "#반복문 : i가 0부터 radius_list의 길이랑 같아질때까지 아래 코드를 반복\n",
    "for i in range(0, len(radius_list)) :\n",
    "    radius = radius_list[i]\n",
    "    t.circle(radius)\n",
    "    t.fd(move)\n",
    "    \n",
    "turtle.done() #turtle 종료\n",
    "try :\n",
    "    turtle.bye()\n",
    "except :\n",
    "    print(\"turtle bye!\")"
   ]
  },
  {
   "cell_type": "code",
   "execution_count": null,
   "id": "5ed03c16",
   "metadata": {},
   "outputs": [],
   "source": []
  }
 ],
 "metadata": {
  "kernelspec": {
   "display_name": "Python 3 (ipykernel)",
   "language": "python",
   "name": "python3"
  },
  "language_info": {
   "codemirror_mode": {
    "name": "ipython",
    "version": 3
   },
   "file_extension": ".py",
   "mimetype": "text/x-python",
   "name": "python",
   "nbconvert_exporter": "python",
   "pygments_lexer": "ipython3",
   "version": "3.11.4"
  }
 },
 "nbformat": 4,
 "nbformat_minor": 5
}
