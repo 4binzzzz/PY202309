{
 "cells": [
  {
   "cell_type": "code",
   "execution_count": 1,
   "id": "fe02df95",
   "metadata": {},
   "outputs": [
    {
     "name": "stdout",
     "output_type": "stream",
     "text": [
      "What do you call a bear with no teeth?\n",
      "A gummy bear!\n"
     ]
    }
   ],
   "source": [
    "#1번\n",
    "print(\"What do you call a bear with no teeth?\")\n",
    "print(\"A gummy bear!\")"
   ]
  },
  {
   "cell_type": "code",
   "execution_count": 2,
   "id": "813621cf",
   "metadata": {},
   "outputs": [
    {
     "name": "stdout",
     "output_type": "stream",
     "text": [
      "Enter your name : sabin\n",
      "Hello sabin\n"
     ]
    }
   ],
   "source": [
    "#2번\n",
    "name = str(input(\"Enter your name : \"))\n",
    "print(\"Hello\", name)"
   ]
  },
  {
   "cell_type": "code",
   "execution_count": 3,
   "id": "58ec7273",
   "metadata": {},
   "outputs": [
    {
     "name": "stdout",
     "output_type": "stream",
     "text": [
      "Input your name : Sabin\n",
      "Input your last name : Wang\n",
      "Hello Sabin Wang\n"
     ]
    }
   ],
   "source": [
    "#3번\n",
    "name = str(input(\"Input your name : \"))\n",
    "last_name = str(input(\"Input your last name : \"))\n",
    "print(\"Hello\", name, last_name)"
   ]
  },
  {
   "cell_type": "code",
   "execution_count": 4,
   "id": "40a2a958",
   "metadata": {},
   "outputs": [
    {
     "name": "stdout",
     "output_type": "stream",
     "text": [
      "Input the first number : 10\n",
      "Input the second number : 30\n",
      "10 + 30 = 40\n"
     ]
    }
   ],
   "source": [
    "#4번\n",
    "num1 = int(input(\"Input the first number : \"))\n",
    "num2 = int(input(\"Input the second number : \"))\n",
    "total = num1 + num2\n",
    "\n",
    "print(num1,\"+\",num2,\"=\",total)"
   ]
  },
  {
   "cell_type": "code",
   "execution_count": 6,
   "id": "91bbe12c",
   "metadata": {},
   "outputs": [
    {
     "name": "stdout",
     "output_type": "stream",
     "text": [
      "Input the first number : 10\n",
      "Input the second number : 20\n",
      "Input the third number : 30\n",
      "10 + 20 * 30 = 610\n",
      "( 10 + 20 ) * 30 = 900\n"
     ]
    }
   ],
   "source": [
    "#5번\n",
    "num1 = int(input(\"Input the first number : \"))\n",
    "num2 = int(input(\"Input the second number : \"))\n",
    "num3 = int(input(\"Input the third number : \"))\n",
    "wrong_cal = num1 + num2 * num3\n",
    "cal = (num1 + num2) * num3\n",
    "\n",
    "print(num1,\"+\",num2,\"*\",num3,\"=\",wrong_cal)\n",
    "print(\"(\",num1,\"+\",num2,\")\",\"*\",num3,\"=\",cal)"
   ]
  },
  {
   "cell_type": "code",
   "execution_count": 7,
   "id": "7339664f",
   "metadata": {},
   "outputs": [
    {
     "name": "stdout",
     "output_type": "stream",
     "text": [
      "Enter the number of slices of pizza you started with : 10\n",
      "How many slices have you eaten : 5\n",
      "You have 5 slicing remaining.\n"
     ]
    }
   ],
   "source": [
    "#6번\n",
    "total_pizza = int(input(\"Enter the number of slices of pizza you started with : \"))\n",
    "eaten_pizza = int(input(\"How many slices have you eaten : \"))\n",
    "\n",
    "remain = total_pizza - eaten_pizza\n",
    "\n",
    "print(\"You have\",remain,\"slicing remaining.\")"
   ]
  },
  {
   "cell_type": "code",
   "execution_count": 8,
   "id": "fef660e4",
   "metadata": {},
   "outputs": [
    {
     "name": "stdout",
     "output_type": "stream",
     "text": [
      "What is your name?Sabin\n",
      "How old are you?22\n",
      "Sabin . next birthday you will be 23\n"
     ]
    }
   ],
   "source": [
    "#7번\n",
    "name = str(input(\"What is your name?\"))\n",
    "now_age = int(input(\"How old are you?\"))\n",
    "next_age = now_age + 1\n",
    "\n",
    "print(name,\". next birthday you will be\",next_age)"
   ]
  },
  {
   "cell_type": "code",
   "execution_count": null,
   "id": "845911dc",
   "metadata": {},
   "outputs": [],
   "source": []
  }
 ],
 "metadata": {
  "kernelspec": {
   "display_name": "Python 3 (ipykernel)",
   "language": "python",
   "name": "python3"
  },
  "language_info": {
   "codemirror_mode": {
    "name": "ipython",
    "version": 3
   },
   "file_extension": ".py",
   "mimetype": "text/x-python",
   "name": "python",
   "nbconvert_exporter": "python",
   "pygments_lexer": "ipython3",
   "version": "3.11.4"
  }
 },
 "nbformat": 4,
 "nbformat_minor": 5
}
