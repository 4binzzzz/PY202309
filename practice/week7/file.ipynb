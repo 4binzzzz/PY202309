{
 "cells": [
  {
   "cell_type": "code",
   "execution_count": 4,
   "id": "9c6516be",
   "metadata": {},
   "outputs": [
    {
     "name": "stdout",
     "output_type": "stream",
     "text": [
      "1. 암호화, 2. 복호화 중 선택하세요 : 2\n",
      "입력 파일 이름을 입력하세요 : data_enc.txt\n",
      "출력 파일 이름을 입력하세요 : data_dec.txt\n",
      "data_enc.txt --> data_dec.txt Finish to transform\n"
     ]
    }
   ],
   "source": [
    "choice = int(input(\"1. 암호화, 2. 복호화 중 선택하세요 : \")) #사용자에게 할 일 입력받기\n",
    "in_filename = input(\"입력 파일 이름을 입력하세요 : \") #암호화 혹은 복호화될 파일 이름 입력받기\n",
    "out_filename = input(\"출력 파일 이름을 입력하세요 : \") #암호화 혹은 복호화된 파일이 저장될 파일의 이름 입력받기\n",
    "\n",
    "token_jump = 0\n",
    "\n",
    "if choice ==1 : #파일을 암호화할 경우\n",
    "    token_jump = 100\n",
    "elif choice == 2 : #파일을 복호화할 경우\n",
    "    token_jump = -100\n",
    "    \n",
    "in_fp = open(in_filename, \"r\", encoding=\"utf8\") #입력 파일을 읽기 전용으로 불러오기\n",
    "out_fp = open(out_filename, \"w\", encoding=\"utf8\") #출력 파일을 쓰기 전용으로 불러오기\n",
    "\n",
    "in_lines = in_fp.readlines() #입력 파일에 들어있는 모든 라인을 in_lines에 저장\n",
    "\n",
    "for in_line in in_lines: #입력 파일에 들어있는 라인 수만큼 반복\n",
    "    out_str = \"\"\n",
    "    for i in range(0,len(in_line)) : #파일에 있는 모든 라인을 처음부터 끝까지 실행할때까지 반복\n",
    "        ch = in_line[i] #in_line의 첫번째 줄부터 마지막 줄까지 ch에 차례대로 저장\n",
    "        ch_num = ord(ch) #ch에 저장된 문자를 해당 유니코드로 변환해서 ch(num)에 저장\n",
    "        ch_num = ch_num + token_jump\n",
    "        ch2 = chr(ch_num)\n",
    "        out_str = out_str + ch2\n",
    "        \n",
    "    out_fp.write(out_str)\n",
    "    \n",
    "out_fp.close() #출력 파일 닫기\n",
    "in_fp.close() #입력 파일 닫기\n",
    "print(\"%s --> %s Finish to transform\"%(in_filename, out_filename))\n",
    "#모든 과정이 잘 끝났을 경우 위와 같은 문구를 출력"
   ]
  },
  {
   "cell_type": "code",
   "execution_count": null,
   "id": "8cb76850",
   "metadata": {},
   "outputs": [],
   "source": []
  }
 ],
 "metadata": {
  "kernelspec": {
   "display_name": "Python 3 (ipykernel)",
   "language": "python",
   "name": "python3"
  },
  "language_info": {
   "codemirror_mode": {
    "name": "ipython",
    "version": 3
   },
   "file_extension": ".py",
   "mimetype": "text/x-python",
   "name": "python",
   "nbconvert_exporter": "python",
   "pygments_lexer": "ipython3",
   "version": "3.11.4"
  }
 },
 "nbformat": 4,
 "nbformat_minor": 5
}
